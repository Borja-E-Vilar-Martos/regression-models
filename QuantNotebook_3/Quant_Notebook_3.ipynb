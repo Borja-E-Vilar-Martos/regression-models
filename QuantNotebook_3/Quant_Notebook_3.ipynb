{
 "cells": [
  {
   "cell_type": "code",
   "execution_count": 1,
   "metadata": {},
   "outputs": [],
   "source": [
    "import pandas as pd\n",
    "from matplotlib import pyplot as plt\n",
    "import matplotlib as mpl\n",
    "from matplotlib import cm\n",
    "from sklearn.linear_model import LinearRegression\n",
    "import numpy as np\n",
    "import statsmodels.api as sm\n",
    "from sklearn.datasets import make_blobs\n",
    "import seaborn as sns\n",
    "plt.style.use('seaborn')"
   ]
  },
  {
   "cell_type": "code",
   "execution_count": 31,
   "metadata": {},
   "outputs": [
    {
     "name": "stderr",
     "output_type": "stream",
     "text": [
      "C:\\Users\\jabor\\AppData\\Roaming\\Python\\Python38\\site-packages\\pandas\\io\\stata.py:1433: UnicodeWarning: \n",
      "One or more strings in the dta file could not be decoded using utf-8, and\n",
      "so the fallback encoding of latin-1 is being used.  This can happen when a file\n",
      "has been incorrectly encoded by Stata or some other software. You should verify\n",
      "the string values returned are correct.\n",
      "  warnings.warn(msg, UnicodeWarning)\n"
     ]
    }
   ],
   "source": [
    "df = pd.read_stata('Staat vd Stad.dta')\n",
    "pd.set_option('display.max_columns', None)"
   ]
  },
  {
   "cell_type": "code",
   "execution_count": 33,
   "metadata": {},
   "outputs": [
    {
     "data": {
      "text/plain": [
       "nee              1921\n",
       "ja, misschien     521\n",
       "ja, zeker         457\n",
       "weet niet         320\n",
       "niet ingevuld       6\n",
       "Name: V16, dtype: int64"
      ]
     },
     "execution_count": 33,
     "metadata": {},
     "output_type": "execute_result"
    }
   ],
   "source": [
    "df['V4']=df['V4'].map({'rarely ever or never': '2-low', 'at least once a week': '0-intensive', 'once a month':'1-moderate', 'twice a month': '1-moderate', 'less than once a month': '2-low' })\n",
    "df=df.drop(df[df['V4']==\"don't know\"].index)\n",
    "df=df.drop(df[df['V4']==\"not filled in\"].index)\n",
    "df['V16'].value_counts()"
   ]
  },
  {
   "cell_type": "code",
   "execution_count": 34,
   "metadata": {},
   "outputs": [],
   "source": [
    "df['V8'].replace('not filled in', 'no', inplace=True)\n",
    "df['V8'] = pd.get_dummies(df['V8'])\n",
    "# df['V8'].value_counts()"
   ]
  },
  {
   "cell_type": "code",
   "execution_count": 35,
   "metadata": {},
   "outputs": [],
   "source": [
    "df['V5'] = df['V5'].map({'fairly': 2, 'a lot': 3, 'a little': 1, 'not': 0, 'not filled in': 0})"
   ]
  },
  {
   "cell_type": "code",
   "execution_count": 36,
   "metadata": {},
   "outputs": [],
   "source": [
    "df=df.drop(df[df['V12']==\"not filled in\"].index)\n",
    "df['V12'] = pd.get_dummies(df['V12'])"
   ]
  },
  {
   "cell_type": "code",
   "execution_count": 37,
   "metadata": {},
   "outputs": [
    {
     "data": {
      "text/plain": [
       "0.0    0.695747\n",
       "1.0    0.162602\n",
       "2.0    0.141651\n",
       "Name: V16, dtype: float64"
      ]
     },
     "execution_count": 37,
     "metadata": {},
     "output_type": "execute_result"
    }
   ],
   "source": [
    "df=df.drop(df[df['V16']==\"niet ingevuld\"].index)\n",
    "df['V16'] = df['V16'].map({'nee': 0, 'weet niet': 0, 'ja, misschien': 1, 'ja, zeker': 2})\n",
    "df['V16'].value_counts(normalize=True)"
   ]
  },
  {
   "cell_type": "code",
   "execution_count": 8,
   "metadata": {},
   "outputs": [],
   "source": [
    "famdum = pd.get_dummies(df['hhcom'])"
   ]
  },
  {
   "cell_type": "code",
   "execution_count": 9,
   "metadata": {},
   "outputs": [],
   "source": [
    "df['children'] = famdum['couple with child(ren) at home'] + famdum['one parent with child(ren) at home'] + famdum['two adults, with child(ren) at home'] + famdum['three or more adults, with child(ren) at home']"
   ]
  },
  {
   "cell_type": "code",
   "execution_count": 10,
   "metadata": {},
   "outputs": [],
   "source": [
    "df['couple'] = famdum['couple without children (at home)'] + famdum['couple with child(ren) at home']"
   ]
  },
  {
   "cell_type": "code",
   "execution_count": 11,
   "metadata": {},
   "outputs": [],
   "source": [
    "df['houseshare'] = famdum['two adults, without children (at home)'] + famdum['two adults, with child(ren) at home'] + famdum['three or more adults, with child(ren) at home'] + famdum['three or more adults, without children at home']"
   ]
  },
  {
   "cell_type": "code",
   "execution_count": 12,
   "metadata": {},
   "outputs": [
    {
     "data": {
      "text/plain": [
       "The Netherlands                                                                     2267\n",
       "Europe (including former Sovjet-Republics)                                           150\n",
       "Morocco                                                                              139\n",
       "Surinam                                                                              138\n",
       "Turkey                                                                               132\n",
       "remaining Asia, namely                                                                83\n",
       "unknown (no answer)                                                                   75\n",
       "US, Canada, Australia, New Zealand, remaining Oceania, Japan, Indonesia, The Dut      65\n",
       "remaining Middle- and South Amerika, namely                                           48\n",
       "The Antillies, Aruba                                                                  42\n",
       "remaining Africa, namely                                                              35\n",
       "Ghana                                                                                 24\n",
       "Name: V76a, dtype: int64"
      ]
     },
     "execution_count": 12,
     "metadata": {},
     "output_type": "execute_result"
    }
   ],
   "source": [
    "df['V76a'].value_counts()"
   ]
  },
  {
   "cell_type": "code",
   "execution_count": 13,
   "metadata": {},
   "outputs": [],
   "source": [
    "df=df.drop(df[df['V76a']==\"unknown (no answer)\"].index)\n",
    "df['V76a'] = df['V76a'].map({'The Netherlands': 'Dutch Native', 'Europe (including former Sovjet-Republics)': 'Europe', 'Ghana': 'Africa', 'remaining Africa, namely': 'Africa', 'Surinam': 'Central and South America', 'The Antillies, Aruba': 'Central and South America', 'remaining Asia, namely':'Asia', 'US, Canada, Australia, New Zealand, remaining Oceania, Japan, Indonesia, The Dut':'Others', 'remaining Middle- and South Amerika, namely':'Central and South America'})"
   ]
  },
  {
   "cell_type": "code",
   "execution_count": 14,
   "metadata": {},
   "outputs": [
    {
     "data": {
      "text/plain": [
       "Dutch Native                 0.794881\n",
       "Central and South America    0.079944\n",
       "Europe                       0.052595\n",
       "Asia                         0.029102\n",
       "Others                       0.022791\n",
       "Africa                       0.020687\n",
       "Name: V76a, dtype: float64"
      ]
     },
     "execution_count": 14,
     "metadata": {},
     "output_type": "execute_result"
    }
   ],
   "source": [
    "countrydum = pd.get_dummies(df['V76a'])\n",
    "df['V76a'].value_counts(normalize=True)"
   ]
  },
  {
   "cell_type": "code",
   "execution_count": 15,
   "metadata": {},
   "outputs": [
    {
     "data": {
      "text/plain": [
       "(3069, 13)"
      ]
     },
     "execution_count": 15,
     "metadata": {},
     "output_type": "execute_result"
    }
   ],
   "source": [
    "df.dropna(subset=['V4'], inplace=True)\n",
    "df_X = pd.DataFrame()\n",
    "df_X[['Trust in Neighbours', 'Neighbourhood Safety', 'House Owner', 'Plans to move']]=df[['V5', 'V8', 'V12', 'V16']]\n",
    "df_X[['Africa', 'Asia', 'Central and South America', 'Dutch Native', 'Europe', 'Others']] = countrydum\n",
    "df_X[['children', 'couple', 'houseshare']] = df[['children', 'couple', 'houseshare']]\n",
    "df_X.shape"
   ]
  },
  {
   "cell_type": "code",
   "execution_count": 16,
   "metadata": {},
   "outputs": [
    {
     "data": {
      "text/plain": [
       "2    1722\n",
       "3     795\n",
       "1     322\n",
       "0     230\n",
       "Name: Trust in Neighbours, dtype: int64"
      ]
     },
     "execution_count": 16,
     "metadata": {},
     "output_type": "execute_result"
    }
   ],
   "source": [
    "Y = df['V4']\n",
    "X = sm.add_constant(df_X, prepend = False)\n",
    "X['Trust in Neighbours'].value_counts()"
   ]
  },
  {
   "cell_type": "code",
   "execution_count": 17,
   "metadata": {},
   "outputs": [
    {
     "name": "stdout",
     "output_type": "stream",
     "text": [
      "Optimization terminated successfully.\n",
      "         Current function value: 1.011183\n",
      "         Iterations 5\n"
     ]
    }
   ],
   "source": [
    "model=sm.MNLogit(Y, X.astype(float), missing='raise')\n",
    "model_fit = model.fit()"
   ]
  },
  {
   "cell_type": "code",
   "execution_count": 18,
   "metadata": {},
   "outputs": [
    {
     "name": "stdout",
     "output_type": "stream",
     "text": [
      "       MNLogit Marginal Effects      \n",
      "=====================================\n",
      "Dep. Variable:                     V4\n",
      "Method:                          dydx\n",
      "At:                           overall\n",
      "=============================================================================================\n",
      "           V4=0-intensive      dy/dx    std err          z      P>|z|      [0.025      0.975]\n",
      "---------------------------------------------------------------------------------------------\n",
      "Trust in Neighbours           0.1134      0.011     10.004      0.000       0.091       0.136\n",
      "Neighbourhood Safety         -0.0290      0.018     -1.610      0.107      -0.064       0.006\n",
      "House Owner                  -0.0303      0.017     -1.796      0.072      -0.063       0.003\n",
      "Plans to move                -0.0458      0.012     -3.836      0.000      -0.069      -0.022\n",
      "Africa                       -0.0519      0.068     -0.764      0.445      -0.185       0.081\n",
      "Asia                         -0.0607      0.058     -1.051      0.293      -0.174       0.052\n",
      "Central and South America    -0.0294      0.041     -0.715      0.475      -0.110       0.051\n",
      "Dutch Native                 -0.0400      0.029     -1.372      0.170      -0.097       0.017\n",
      "Europe                       -0.0972      0.048     -2.046      0.041      -0.190      -0.004\n",
      "Others                       -0.1196      0.065     -1.852      0.064      -0.246       0.007\n",
      "children                      0.0971      0.017      5.555      0.000       0.063       0.131\n",
      "couple                        0.0156      0.019      0.805      0.421      -0.022       0.054\n",
      "houseshare                   -0.0025      0.024     -0.107      0.915      -0.049       0.044\n",
      "---------------------------------------------------------------------------------------------\n",
      "            V4=1-moderate      dy/dx    std err          z      P>|z|      [0.025      0.975]\n",
      "---------------------------------------------------------------------------------------------\n",
      "Trust in Neighbours           0.0558      0.011      5.011      0.000       0.034       0.078\n",
      "Neighbourhood Safety          0.0300      0.018      1.673      0.094      -0.005       0.065\n",
      "House Owner                   0.0206      0.017      1.202      0.229      -0.013       0.054\n",
      "Plans to move                -0.0071      0.012     -0.600      0.548      -0.030       0.016\n",
      "Africa                       -0.0508      0.074     -0.684      0.494      -0.197       0.095\n",
      "Asia                         -0.0210      0.061     -0.345      0.730      -0.140       0.098\n",
      "Central and South America    -0.0338      0.045     -0.755      0.450      -0.122       0.054\n",
      "Dutch Native                  0.0370      0.032      1.164      0.244      -0.025       0.099\n",
      "Europe                        0.0399      0.048      0.840      0.401      -0.053       0.133\n",
      "Others                       -0.0048      0.065     -0.073      0.941      -0.132       0.122\n",
      "children                      0.0331      0.018      1.818      0.069      -0.003       0.069\n",
      "couple                        0.0176      0.020      0.895      0.371      -0.021       0.056\n",
      "houseshare                   -0.0100      0.024     -0.417      0.676      -0.057       0.037\n",
      "---------------------------------------------------------------------------------------------\n",
      "                 V4=2-low      dy/dx    std err          z      P>|z|      [0.025      0.975]\n",
      "---------------------------------------------------------------------------------------------\n",
      "Trust in Neighbours          -0.1692      0.010    -16.400      0.000      -0.189      -0.149\n",
      "Neighbourhood Safety         -0.0010      0.018     -0.052      0.958      -0.037       0.035\n",
      "House Owner                   0.0098      0.018      0.553      0.580      -0.025       0.044\n",
      "Plans to move                 0.0528      0.012      4.520      0.000       0.030       0.076\n",
      "Africa                        0.1027      0.070      1.476      0.140      -0.034       0.239\n",
      "Asia                          0.0816      0.059      1.393      0.164      -0.033       0.196\n",
      "Central and South America     0.0632      0.044      1.443      0.149      -0.023       0.149\n",
      "Dutch Native                  0.0031      0.033      0.094      0.925      -0.061       0.068\n",
      "Europe                        0.0573      0.049      1.178      0.239      -0.038       0.153\n",
      "Others                        0.1243      0.065      1.926      0.054      -0.002       0.251\n",
      "children                     -0.1302      0.019     -6.783      0.000      -0.168      -0.093\n",
      "couple                       -0.0332      0.020     -1.655      0.098      -0.073       0.006\n",
      "houseshare                    0.0126      0.024      0.523      0.601      -0.035       0.060\n",
      "=============================================================================================\n"
     ]
    }
   ],
   "source": [
    "print(model_fit.get_margeff().summary()) "
   ]
  },
  {
   "cell_type": "code",
   "execution_count": 19,
   "metadata": {},
   "outputs": [
    {
     "name": "stdout",
     "output_type": "stream",
     "text": [
      "                          MNLogit Regression Results                          \n",
      "==============================================================================\n",
      "Dep. Variable:                     V4   No. Observations:                 3069\n",
      "Model:                        MNLogit   Df Residuals:                     3041\n",
      "Method:                           MLE   Df Model:                           26\n",
      "Date:                Mon, 21 Sep 2020   Pseudo R-squ.:                 0.06400\n",
      "Time:                        17:24:46   Log-Likelihood:                -3103.3\n",
      "converged:                       True   LL-Null:                       -3315.5\n",
      "Covariance Type:            nonrobust   LLR p-value:                 1.286e-73\n",
      "=============================================================================================\n",
      "            V4=1-moderate       coef    std err          z      P>|z|      [0.025      0.975]\n",
      "---------------------------------------------------------------------------------------------\n",
      "Trust in Neighbours          -0.2254      0.074     -3.067      0.002      -0.369      -0.081\n",
      "Neighbourhood Safety          0.2074      0.109      1.908      0.056      -0.006       0.421\n",
      "House Owner                   0.1804      0.102      1.761      0.078      -0.020       0.381\n",
      "Plans to move                 0.1433      0.073      1.961      0.050       0.000       0.286\n",
      "Africa                        0.0174      0.437      0.040      0.968      -0.839       0.874\n",
      "Asia                          0.1505      0.362      0.415      0.678      -0.560       0.861\n",
      "Central and South America    -0.0069      0.260     -0.027      0.979      -0.517       0.503\n",
      "Dutch Native                  0.2716      0.181      1.503      0.133      -0.083       0.626\n",
      "Europe                        0.4906      0.288      1.702      0.089      -0.074       1.055\n",
      "Others                        0.4208      0.396      1.063      0.288      -0.355       1.196\n",
      "children                     -0.2427      0.107     -2.262      0.024      -0.453      -0.032\n",
      "couple                        0.0026      0.118      0.022      0.982      -0.229       0.234\n",
      "houseshare                   -0.0248      0.146     -0.170      0.865      -0.310       0.260\n",
      "const                         0.1525      0.249      0.612      0.540      -0.336       0.641\n",
      "---------------------------------------------------------------------------------------------\n",
      "                 V4=2-low       coef    std err          z      P>|z|      [0.025      0.975]\n",
      "---------------------------------------------------------------------------------------------\n",
      "Trust in Neighbours          -0.9050      0.069    -13.172      0.000      -1.040      -0.770\n",
      "Neighbourhood Safety          0.1031      0.104      0.989      0.323      -0.101       0.307\n",
      "House Owner                   0.1390      0.098      1.416      0.157      -0.053       0.331\n",
      "Plans to move                 0.3203      0.068      4.701      0.000       0.187       0.454\n",
      "Africa                        0.4874      0.380      1.283      0.199      -0.257       1.232\n",
      "Asia                          0.4582      0.326      1.407      0.159      -0.180       1.097\n",
      "Central and South America     0.2908      0.237      1.229      0.219      -0.173       0.755\n",
      "Dutch Native                  0.1553      0.174      0.891      0.373      -0.186       0.497\n",
      "Europe                        0.5215      0.275      1.898      0.058      -0.017       1.060\n",
      "Others                        0.7972      0.367      2.170      0.030       0.077       1.517\n",
      "children                     -0.7321      0.107     -6.857      0.000      -0.941      -0.523\n",
      "couple                       -0.1533      0.112     -1.367      0.172      -0.373       0.067\n",
      "houseshare                    0.0458      0.135      0.338      0.735      -0.220       0.311\n",
      "const                         2.1004      0.232      9.064      0.000       1.646       2.555\n",
      "=============================================================================================\n"
     ]
    }
   ],
   "source": [
    "print(model_fit.summary())"
   ]
  },
  {
   "cell_type": "code",
   "execution_count": 24,
   "metadata": {},
   "outputs": [
    {
     "data": {
      "text/plain": [
       "Trust in Neighbours          6151.0\n",
       "Neighbourhood Safety          988.0\n",
       "House Owner                  1478.0\n",
       "Plans to move                1353.0\n",
       "Africa                         54.0\n",
       "Asia                           82.0\n",
       "Central and South America     223.0\n",
       "Dutch Native                 2242.0\n",
       "Europe                        147.0\n",
       "Others                         65.0\n",
       "children                     1063.0\n",
       "couple                       1443.0\n",
       "houseshare                    603.0\n",
       "const                        3069.0\n",
       "dtype: float64"
      ]
     },
     "execution_count": 24,
     "metadata": {},
     "output_type": "execute_result"
    }
   ],
   "source": [
    "X.sum()\n"
   ]
  },
  {
   "cell_type": "code",
   "execution_count": null,
   "metadata": {},
   "outputs": [],
   "source": []
  }
 ],
 "metadata": {
  "kernelspec": {
   "display_name": "Python 3",
   "language": "python",
   "name": "python3"
  },
  "language_info": {
   "codemirror_mode": {
    "name": "ipython",
    "version": 3
   },
   "file_extension": ".py",
   "mimetype": "text/x-python",
   "name": "python",
   "nbconvert_exporter": "python",
   "pygments_lexer": "ipython3",
   "version": "3.8.5"
  }
 },
 "nbformat": 4,
 "nbformat_minor": 4
}
