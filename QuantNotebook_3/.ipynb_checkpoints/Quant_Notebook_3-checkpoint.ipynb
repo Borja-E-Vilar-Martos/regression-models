{
 "cells": [
  {
   "cell_type": "code",
   "execution_count": 1,
   "metadata": {},
   "outputs": [],
   "source": [
    "import pandas as pd\n",
    "from matplotlib import pyplot as plt\n",
    "import matplotlib as mpl\n",
    "from matplotlib import cm\n",
    "from sklearn.linear_model import LinearRegression\n",
    "import numpy as np\n",
    "import statsmodels.api as sm\n",
    "from sklearn.datasets import make_blobs\n",
    "import seaborn as sns\n",
    "plt.style.use('seaborn')"
   ]
  },
  {
   "cell_type": "code",
   "execution_count": 2,
   "metadata": {},
   "outputs": [
    {
     "name": "stderr",
     "output_type": "stream",
     "text": [
      "C:\\Users\\jabor\\AppData\\Roaming\\Python\\Python38\\site-packages\\pandas\\io\\stata.py:1433: UnicodeWarning: \n",
      "One or more strings in the dta file could not be decoded using utf-8, and\n",
      "so the fallback encoding of latin-1 is being used.  This can happen when a file\n",
      "has been incorrectly encoded by Stata or some other software. You should verify\n",
      "the string values returned are correct.\n",
      "  warnings.warn(msg, UnicodeWarning)\n"
     ]
    }
   ],
   "source": [
    "df = pd.read_stata('Staat vd Stad.dta')\n",
    "pd.set_option('display.max_columns', None)"
   ]
  },
  {
   "cell_type": "code",
   "execution_count": 3,
   "metadata": {},
   "outputs": [
    {
     "data": {
      "text/plain": [
       "2-low          0.426266\n",
       "0-intensive    0.287025\n",
       "1-moderate     0.286709\n",
       "Name: V4, dtype: float64"
      ]
     },
     "execution_count": 3,
     "metadata": {},
     "output_type": "execute_result"
    }
   ],
   "source": [
    "df['V4']=df['V4'].map({'rarely ever or never': '2-low', 'at least once a week': '0-intensive', 'once a month':'1-moderate', 'twice a month': '1-moderate', 'less than once a month': '2-low' })\n",
    "df=df.drop(df[df['V4']==\"don't know\"].index)\n",
    "df=df.drop(df[df['V4']==\"not filled in\"].index)\n",
    "df['V4'].value_counts(normalize=True)"
   ]
  },
  {
   "cell_type": "code",
   "execution_count": 4,
   "metadata": {},
   "outputs": [],
   "source": [
    "df['V8'].replace('not filled in', 'no', inplace=True)\n",
    "df['V8'] = pd.get_dummies(df['V8'])\n",
    "# df['V8'].value_counts()"
   ]
  },
  {
   "cell_type": "code",
   "execution_count": 5,
   "metadata": {},
   "outputs": [],
   "source": [
    "df['V5'] = df['V5'].map({'fairly': 2, 'a lot': 3, 'a little': 1, 'not': 0, 'not filled in': 0})"
   ]
  },
  {
   "cell_type": "code",
   "execution_count": 6,
   "metadata": {},
   "outputs": [],
   "source": [
    "df=df.drop(df[df['V12']==\"not filled in\"].index)\n",
    "df['V12'] = pd.get_dummies(df['V12'])"
   ]
  },
  {
   "cell_type": "code",
   "execution_count": 7,
   "metadata": {},
   "outputs": [],
   "source": [
    "df=df.drop(df[df['V16']==\"niet ingevuld\"].index)\n",
    "df['V16'] = df['V16'].map({'nee': 0, 'weet niet': 0, 'ja, misschien': 1, 'ja, zeker': 2})"
   ]
  },
  {
   "cell_type": "code",
   "execution_count": 8,
   "metadata": {},
   "outputs": [],
   "source": [
    "famdum = pd.get_dummies(df['hhcom'])"
   ]
  },
  {
   "cell_type": "code",
   "execution_count": 9,
   "metadata": {},
   "outputs": [],
   "source": [
    "df['children'] = famdum['couple with child(ren) at home'] + famdum['one parent with child(ren) at home'] + famdum['two adults, with child(ren) at home'] + famdum['three or more adults, with child(ren) at home']"
   ]
  },
  {
   "cell_type": "code",
   "execution_count": 10,
   "metadata": {},
   "outputs": [],
   "source": [
    "df['couple'] = famdum['couple without children (at home)'] + famdum['couple with child(ren) at home']"
   ]
  },
  {
   "cell_type": "code",
   "execution_count": 11,
   "metadata": {},
   "outputs": [],
   "source": [
    "df['houseshare'] = famdum['two adults, without children (at home)'] + famdum['two adults, with child(ren) at home'] + famdum['three or more adults, with child(ren) at home'] + famdum['three or more adults, without children at home']"
   ]
  },
  {
   "cell_type": "code",
   "execution_count": 12,
   "metadata": {},
   "outputs": [
    {
     "data": {
      "text/plain": [
       "The Netherlands                                                                     2267\n",
       "Europe (including former Sovjet-Republics)                                           150\n",
       "Morocco                                                                              139\n",
       "Surinam                                                                              138\n",
       "Turkey                                                                               132\n",
       "remaining Asia, namely                                                                83\n",
       "unknown (no answer)                                                                   75\n",
       "US, Canada, Australia, New Zealand, remaining Oceania, Japan, Indonesia, The Dut      65\n",
       "remaining Middle- and South Amerika, namely                                           48\n",
       "The Antillies, Aruba                                                                  42\n",
       "remaining Africa, namely                                                              35\n",
       "Ghana                                                                                 24\n",
       "Name: V76a, dtype: int64"
      ]
     },
     "execution_count": 12,
     "metadata": {},
     "output_type": "execute_result"
    }
   ],
   "source": [
    "df['V76a'].value_counts()"
   ]
  },
  {
   "cell_type": "code",
   "execution_count": 13,
   "metadata": {},
   "outputs": [],
   "source": [
    "df=df.drop(df[df['V76a']==\"unknown (no answer)\"].index)\n",
    "df['V76a'] = df['V76a'].map({'The Netherlands': 'Dutch Native', 'Europe (including former Sovjet-Republics)': 'Europe', 'Ghana': 'Africa', 'remaining Africa, namely': 'Africa', 'Surinam': 'Central and South America', 'The Antillies, Aruba': 'Central and South America', 'remaining Asia, namely':'Asia', 'US, Canada, Australia, New Zealand, remaining Oceania, Japan, Indonesia, The Dut':'Others', 'remaining Middle- and South Amerika, namely':'Central and South America'})"
   ]
  },
  {
   "cell_type": "code",
   "execution_count": 14,
   "metadata": {},
   "outputs": [
    {
     "data": {
      "text/plain": [
       "Dutch Native                 0.794881\n",
       "Central and South America    0.079944\n",
       "Europe                       0.052595\n",
       "Asia                         0.029102\n",
       "Others                       0.022791\n",
       "Africa                       0.020687\n",
       "Name: V76a, dtype: float64"
      ]
     },
     "execution_count": 14,
     "metadata": {},
     "output_type": "execute_result"
    }
   ],
   "source": [
    "countrydum = pd.get_dummies(df['V76a'])\n",
    "df['V76a'].value_counts(normalize=True)"
   ]
  },
  {
   "cell_type": "code",
   "execution_count": 15,
   "metadata": {},
   "outputs": [
    {
     "data": {
      "text/plain": [
       "(3069, 13)"
      ]
     },
     "execution_count": 15,
     "metadata": {},
     "output_type": "execute_result"
    }
   ],
   "source": [
    "df.dropna(subset=['V4'], inplace=True)\n",
    "df_X = pd.DataFrame()\n",
    "df_X[['Trust in Neighbours', 'Neighbourhood Safety', 'House Owner', 'Plans to move']]=df[['V5', 'V8', 'V12', 'V16']]\n",
    "df_X[['Africa', 'Asia', 'Central and South America', 'Dutch Native', 'Europe', 'Others']] = countrydum\n",
    "df_X[['children', 'couple', 'houseshare']] = df[['children', 'couple', 'houseshare']]\n",
    "df_X.shape"
   ]
  },
  {
   "cell_type": "code",
   "execution_count": 20,
   "metadata": {},
   "outputs": [
    {
     "data": {
      "text/plain": [
       "2    0.561095\n",
       "3    0.259042\n",
       "1    0.104920\n",
       "0    0.074943\n",
       "Name: Trust in Neighbours, dtype: float64"
      ]
     },
     "execution_count": 20,
     "metadata": {},
     "output_type": "execute_result"
    }
   ],
   "source": [
    "Y = df['V4']\n",
    "X = sm.add_constant(df_X, prepend = False)\n",
    "X['Trust in Neighbours'].value_counts(normalize=True)"
   ]
  },
  {
   "cell_type": "code",
   "execution_count": 17,
   "metadata": {},
   "outputs": [
    {
     "name": "stdout",
     "output_type": "stream",
     "text": [
      "Optimization terminated successfully.\n",
      "         Current function value: 1.011183\n",
      "         Iterations 5\n"
     ]
    }
   ],
   "source": [
    "model=sm.MNLogit(Y, X.astype(float), missing='raise')\n",
    "model_fit = model.fit()"
   ]
  },
  {
   "cell_type": "code",
   "execution_count": 18,
   "metadata": {},
   "outputs": [
    {
     "name": "stdout",
     "output_type": "stream",
     "text": [
      "                          MNLogit Regression Results                          \n",
      "==============================================================================\n",
      "Dep. Variable:                     V4   No. Observations:                 3069\n",
      "Model:                        MNLogit   Df Residuals:                     3041\n",
      "Method:                           MLE   Df Model:                           26\n",
      "Date:                Sat, 19 Sep 2020   Pseudo R-squ.:                 0.06400\n",
      "Time:                        14:42:10   Log-Likelihood:                -3103.3\n",
      "converged:                       True   LL-Null:                       -3315.5\n",
      "Covariance Type:            nonrobust   LLR p-value:                 1.286e-73\n",
      "=============================================================================================\n",
      "            V4=1-moderate       coef    std err          z      P>|z|      [0.025      0.975]\n",
      "---------------------------------------------------------------------------------------------\n",
      "Trust in Neighbours          -0.2254      0.074     -3.067      0.002      -0.369      -0.081\n",
      "Neighbourhood Safety          0.2074      0.109      1.908      0.056      -0.006       0.421\n",
      "House Owner                   0.1804      0.102      1.761      0.078      -0.020       0.381\n",
      "Plans to move                 0.1433      0.073      1.961      0.050       0.000       0.286\n",
      "Africa                        0.0174      0.437      0.040      0.968      -0.839       0.874\n",
      "Asia                          0.1505      0.362      0.415      0.678      -0.560       0.861\n",
      "Central and South America    -0.0069      0.260     -0.027      0.979      -0.517       0.503\n",
      "Dutch Native                  0.2716      0.181      1.503      0.133      -0.083       0.626\n",
      "Europe                        0.4906      0.288      1.702      0.089      -0.074       1.055\n",
      "Others                        0.4208      0.396      1.063      0.288      -0.355       1.196\n",
      "children                     -0.2427      0.107     -2.262      0.024      -0.453      -0.032\n",
      "couple                        0.0026      0.118      0.022      0.982      -0.229       0.234\n",
      "houseshare                   -0.0248      0.146     -0.170      0.865      -0.310       0.260\n",
      "const                         0.1525      0.249      0.612      0.540      -0.336       0.641\n",
      "---------------------------------------------------------------------------------------------\n",
      "                 V4=2-low       coef    std err          z      P>|z|      [0.025      0.975]\n",
      "---------------------------------------------------------------------------------------------\n",
      "Trust in Neighbours          -0.9050      0.069    -13.172      0.000      -1.040      -0.770\n",
      "Neighbourhood Safety          0.1031      0.104      0.989      0.323      -0.101       0.307\n",
      "House Owner                   0.1390      0.098      1.416      0.157      -0.053       0.331\n",
      "Plans to move                 0.3203      0.068      4.701      0.000       0.187       0.454\n",
      "Africa                        0.4874      0.380      1.283      0.199      -0.257       1.232\n",
      "Asia                          0.4582      0.326      1.407      0.159      -0.180       1.097\n",
      "Central and South America     0.2908      0.237      1.229      0.219      -0.173       0.755\n",
      "Dutch Native                  0.1553      0.174      0.891      0.373      -0.186       0.497\n",
      "Europe                        0.5215      0.275      1.898      0.058      -0.017       1.060\n",
      "Others                        0.7972      0.367      2.170      0.030       0.077       1.517\n",
      "children                     -0.7321      0.107     -6.857      0.000      -0.941      -0.523\n",
      "couple                       -0.1533      0.112     -1.367      0.172      -0.373       0.067\n",
      "houseshare                    0.0458      0.135      0.338      0.735      -0.220       0.311\n",
      "const                         2.1004      0.232      9.064      0.000       1.646       2.555\n",
      "=============================================================================================\n"
     ]
    }
   ],
   "source": [
    "print(model_fit.summary())"
   ]
  }
 ],
 "metadata": {
  "kernelspec": {
   "display_name": "Python 3",
   "language": "python",
   "name": "python3"
  },
  "language_info": {
   "codemirror_mode": {
    "name": "ipython",
    "version": 3
   },
   "file_extension": ".py",
   "mimetype": "text/x-python",
   "name": "python",
   "nbconvert_exporter": "python",
   "pygments_lexer": "ipython3",
   "version": "3.8.5"
  }
 },
 "nbformat": 4,
 "nbformat_minor": 4
}
